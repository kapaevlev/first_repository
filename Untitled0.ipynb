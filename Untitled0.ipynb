{
  "nbformat": 4,
  "nbformat_minor": 0,
  "metadata": {
    "colab": {
      "provenance": [],
      "authorship_tag": "ABX9TyOpnSvJl7cAkFdCkHt1n8pe",
      "include_colab_link": true
    },
    "kernelspec": {
      "name": "python3",
      "display_name": "Python 3"
    },
    "language_info": {
      "name": "python"
    }
  },
  "cells": [
    {
      "cell_type": "markdown",
      "metadata": {
        "id": "view-in-github",
        "colab_type": "text"
      },
      "source": [
        "<a href=\"https://colab.research.google.com/github/kapaevlev/first_repository/blob/main/Untitled0.ipynb\" target=\"_parent\"><img src=\"https://colab.research.google.com/assets/colab-badge.svg\" alt=\"Open In Colab\"/></a>"
      ]
    },
    {
      "cell_type": "code",
      "source": [
        "def read_file(data)\n",
        "    with open('test.txt', 'r', encoding = 'UTF-8') as file:\n",
        "        lines = file.readlines()\n",
        "        lines = [line.strip() for line in lines]\n",
        "        return lines"
      ],
      "metadata": {
        "id": "mMTJACFCQvWv"
      },
      "execution_count": null,
      "outputs": []
    }
  ]
}